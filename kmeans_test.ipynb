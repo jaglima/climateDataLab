{
 "cells": [
  {
   "cell_type": "markdown",
   "metadata": {
    "deletable": true,
    "editable": true
   },
   "source": [
    "# K-Means clustering over Weather Stations Data\n",
    "\n"
   ]
  },
  {
   "cell_type": "markdown",
   "metadata": {
    "deletable": true,
    "editable": true
   },
   "source": [
    "In this study, we will use the clustering technique K-means to explore and test this use over a meteorological data set from weather stations in Brazilian Northeast area. A ilustrative case will be produced, where we will remove information about localization and date from the data and from that we will try to infer a) the optimal number of clusters representing a station and b) the main characteristics of each point from climatological view point.\n",
    "\n",
    "The K-means is the most intuitive and widespread technique for cluster data. We will apply the Elbow method to select the optimal number os clusters and the shadow technique to validate the structure found."
   ]
  },
  {
   "cell_type": "markdown",
   "metadata": {
    "deletable": true,
    "editable": true
   },
   "source": [
    "## Adjusting data"
   ]
  },
  {
   "cell_type": "markdown",
   "metadata": {
    "deletable": true,
    "editable": true
   },
   "source": [
    "We first load the data set into python"
   ]
  },
  {
   "cell_type": "code",
   "execution_count": 6,
   "metadata": {
    "collapsed": true,
    "deletable": true,
    "editable": true
   },
   "outputs": [],
   "source": [
    "import pandas as pd\n",
    "from pandas import DataFrame\n",
    "import matplotlib.pyplot as plt\n",
    "from sklearn import preprocessing\n",
    "from sklearn.cluster import KMeans\n",
    "import numpy as np\n",
    "\n",
    "path = '/home/desplein/proj/data_bases/'\n",
    "ini = '1996-01-01'\n",
    "end = '2016-11-30'\n",
    "\n",
    "n_samples = 1500\n",
    "random_state = 170"
   ]
  },
  {
   "cell_type": "markdown",
   "metadata": {
    "deletable": true,
    "editable": true
   },
   "source": [
    "The random_state variable here tells to KMeans package to seed the pseudo-random numbers generation. Your data starts in 1996 to 2016. "
   ]
  },
  {
   "cell_type": "code",
   "execution_count": 7,
   "metadata": {
    "collapsed": false,
    "deletable": true,
    "editable": true
   },
   "outputs": [],
   "source": [
    "dailyPrecipitation = pd.read_csv(path + 'station_precip.csv', index_col=0, parse_dates=True)\n",
    "maxTemperature = pd.read_csv(path + 'station_tmax.csv', index_col=0, parse_dates=True)\n",
    "\n",
    "# Resample the daily temperature values to yearly maximuns \n",
    "maxTemperature = maxTemperature.resample('A').max()[ini:end]\n",
    "# Resample the daily temperature values to yearly accumulated\n",
    "totalPrecip = dailyPrecipitation.resample('A').sum()[ini:end]\n",
    "\n",
    "# Adjusting data from time series to arrays format\n",
    "tempPrecip = totalPrecip.stack().reset_index(level=1, drop=True)\n",
    "tempTemperature = maxTemperature.stack().reset_index(level=1, drop=True)\n",
    "\n",
    "# adjusting type as array\n",
    "data = pd.concat([tempTemperature, tempPrecip], axis=1).dropna().as_matrix()\n",
    "\n",
    "# rescaling data\n",
    "min_max_scaler = preprocessing.MinMaxScaler()\n",
    "data_norm = min_max_scaler.fit_transform(data)"
   ]
  },
  {
   "cell_type": "markdown",
   "metadata": {
    "deletable": true,
    "editable": true
   },
   "source": [
    "Rescaling data here is necessary given the assimetry between temperature and accumulated precipitation units. Then, the normalized data is"
   ]
  },
  {
   "cell_type": "code",
   "execution_count": 9,
   "metadata": {
    "collapsed": false,
    "deletable": true,
    "editable": true
   },
   "outputs": [
    {
     "data": {
      "text/plain": [
       "array([[ 0.26315789,  0.15277361],\n",
       "       [ 0.07894737,  0.66853464],\n",
       "       [ 0.34210526,  0.44064178],\n",
       "       [ 0.13157895,  0.39364222],\n",
       "       [ 0.96052632,  0.17608993],\n",
       "       [ 0.27631579,  0.10637446],\n",
       "       [ 0.07894737,  0.51702859],\n",
       "       [ 0.22368421,  0.23092832],\n",
       "       [ 0.27631579,  0.34504153]])"
      ]
     },
     "execution_count": 9,
     "metadata": {},
     "output_type": "execute_result"
    }
   ],
   "source": [
    "data_norm[1:10]"
   ]
  },
  {
   "cell_type": "markdown",
   "metadata": {},
   "source": [
    "## The Elbow method"
   ]
  },
  {
   "cell_type": "markdown",
   "metadata": {},
   "source": [
    "The Elbow method is a widespread heuristics empolyed to estimate the optimal number of clusters throught a set of k-means computations. It performs k simulations, varing the number of clusters. This optimal value is achieved when, in the step $n$ where $n \\in 2 \\dots k$, adding the $n+1$ cluster no more improves the percentage of variance explained globally. There is no objective levels for judge when the improvement is enough and the judgement of the shift point is very subjective hard to determine. \n",
    "\n",
    "The following code shows 15 iterations when the number of clusters are increased by one and the total explained variance is computed. At end a chart shows the results"
   ]
  },
  {
   "cell_type": "code",
   "execution_count": 11,
   "metadata": {
    "collapsed": false
   },
   "outputs": [
    {
     "data": {
      "image/png": "[encoded data removed]",
      "text/plain": [
       "<matplotlib.figure.Figure at 0x7f5d7a932190>"
      ]
     },
     "metadata": {},
     "output_type": "display_data"
    }
   ],
   "source": [
    "import pandas as pd\n",
    "import matplotlib.pyplot as plt\n",
    "from sklearn.cluster import KMeans\n",
    "from scipy.spatial.distance import cdist, pdist\n",
    "\n",
    "# data set\n",
    "df = pd.DataFrame({'temperature':data_norm[:,0],'precipitation': data_norm[:,1]})\n",
    "\n",
    "# number of iterations\n",
    "n = 15\n",
    "\n",
    "kMeansVar = [KMeans(n_clusters=k).fit(df.values) for k in range(1, n)]\n",
    "centroids = [X.cluster_centers_ for X in kMeansVar]\n",
    "k_euclid = [cdist(df.values, cent) for cent in centroids]\n",
    "dist = [np.min(ke, axis=1) for ke in k_euclid]\n",
    "\n",
    "# distance squared sum (verifiy this math)\n",
    "wcss = [sum(d**2) for d in dist]\n",
    "tss = sum(pdist(df.values)**2)/df.values.shape[0]\n",
    "bss = tss - wcss\n",
    "plt.plot(bss)\n",
    "plt.show()\n",
    "\n"
   ]
  },
  {
   "cell_type": "markdown",
   "metadata": {},
   "source": [
    "As often happens, the Elbow method has a not so obvious result. As we can see, the improviment of explained variance starts to decrease at 4 clusters and is almost constant from 6 elements. As expected, 5 clusters looks like the best value for k."
   ]
  },
  {
   "cell_type": "markdown",
   "metadata": {},
   "source": [
    "# The K-Means method"
   ]
  },
  {
   "cell_type": "markdown",
   "metadata": {
    "deletable": true,
    "editable": true
   },
   "source": [
    "Over thes reescaled data set it is possible to apply K-means cluster from sklearn kit. Once we already know that data comes from 5 specific stations it is easy to choose the expected number of clusters. Note that it is not always easy to chose and there are specific techniques for this.\n",
    "\n",
    "At the end, we use the original data set and not the scaled one to show the results in a more intuitive way."
   ]
  },
  {
   "cell_type": "code",
   "execution_count": 4,
   "metadata": {
    "collapsed": false,
    "deletable": true,
    "editable": true
   },
   "outputs": [
    {
     "data": {
      "image/png": "[encoded data removed]",
      "text/plain": [
       "<matplotlib.figure.Figure at 0x7f2493fb1650>"
      ]
     },
     "metadata": {},
     "output_type": "display_data"
    }
   ],
   "source": [
    "# k means with 5 clusters\n",
    "yPrediction = KMeans(n_clusters=5, random_state=random_state).fit_predict(data_norm)\n",
    "yValues = KMeans(n_clusters=5, random_state=random_state).fit(data_norm)\n",
    "\n",
    "# plotting\n",
    "plt.scatter(data[:, 0], data[:, 1], c=yPrediction)\n",
    "plt.title(\"Temp vs Precip\")\n",
    "\n",
    "\n",
    "#plt.scatter(a, b,  color='red', s=6)\n",
    "#plt.plot(data['x'], model.predict(), color='black',  linewidth=0.8)\n",
    "#name = 'Monthly TNx'\n",
    "tLabelName = 'T (o.C)'\n",
    "pLabelName = 'Precipitation (mm)'\n",
    "plt.title(\"K-means clustering\" , fontsize=16)\n",
    "plt.ylabel(pLabelName, fontsize=11)\n",
    "plt.xlabel(tLabelName, fontsize=11)\n",
    "plt.show()\n"
   ]
  },
  {
   "cell_type": "markdown",
   "metadata": {
    "deletable": true,
    "editable": true
   },
   "source": [
    "As the last figure shows, 5 clusters were identified.\n",
    "Now, lets recover the centroids for each cluster (doing the reverse normalization)."
   ]
  },
  {
   "cell_type": "code",
   "execution_count": 17,
   "metadata": {
    "collapsed": false,
    "deletable": true,
    "editable": true
   },
   "outputs": [
    {
     "data": {
      "text/plain": [
       "array([[   33.4625    ,   685.675     ],\n",
       "       [   32.66      ,  1740.18      ],\n",
       "       [   37.805     ,  1054.895     ],\n",
       "       [   33.05      ,  1156.74090909],\n",
       "       [   33.13571429,  2508.04285714]])"
      ]
     },
     "execution_count": 17,
     "metadata": {},
     "output_type": "execute_result"
    }
   ],
   "source": [
    "centroidsDenorm = min_max_scaler.inverse_transform(yValues.cluster_centers_)\n",
    "centroidsDenorm"
   ]
  },
  {
   "cell_type": "markdown",
   "metadata": {
    "deletable": true,
    "editable": true
   },
   "source": [
    "Each pair is a centroid coordinate for 5 clusters. Now it is worthwhile take a look in the original labeled data characteristics. Lets compute the mean values for original precipitation and max temperature data"
   ]
  },
  {
   "cell_type": "markdown",
   "metadata": {},
   "source": [
    "## The Silhouette analysis"
   ]
  },
  {
   "cell_type": "markdown",
   "metadata": {},
   "source": [
    "Bla"
   ]
  },
  {
   "cell_type": "code",
   "execution_count": 18,
   "metadata": {
    "collapsed": false
   },
   "outputs": [
    {
     "name": "stdout",
     "output_type": "stream",
     "text": [
      "For n_clusters=2, The Silhouette Coefficient is 0.619345628752\n",
      "For n_clusters=3, The Silhouette Coefficient is 0.540496292824\n",
      "For n_clusters=4, The Silhouette Coefficient is 0.544911636297\n",
      "For n_clusters=5, The Silhouette Coefficient is 0.564682033826\n",
      "For n_clusters=6, The Silhouette Coefficient is 0.587337815869\n",
      "For n_clusters=7, The Silhouette Coefficient is 0.59795266446\n",
      "For n_clusters=8, The Silhouette Coefficient is 0.582640537416\n",
      "For n_clusters=9, The Silhouette Coefficient is 0.565306145999\n",
      "For n_clusters=10, The Silhouette Coefficient is 0.554970795178\n"
     ]
    }
   ],
   "source": [
    "# k means with 5 clusters\n",
    "for n_cluster in range(2, 11):\n",
    "    kmeans = KMeans(n_clusters=n_cluster).fit(data)\n",
    "    label = kmeans.labels_\n",
    "    sil_coeff = silhouette_score(data, label, metric='euclidean')\n",
    "    print(\"For n_clusters={}, The Silhouette Coefficient is {}\".format(n_cluster, sil_coeff))\n"
   ]
  },
  {
   "cell_type": "markdown",
   "metadata": {},
   "source": [
    "## Conclusions"
   ]
  },
  {
   "cell_type": "code",
   "execution_count": 8,
   "metadata": {
    "collapsed": false,
    "deletable": true,
    "editable": true
   },
   "outputs": [
    {
     "data": {
      "text/plain": [
       "BARBALHA     37.805\n",
       "CAMPINA      33.475\n",
       "RECIFE       32.910\n",
       "FORTALEZA    33.455\n",
       "TRIUNFO      32.525\n",
       "dtype: float64"
      ]
     },
     "execution_count": 8,
     "metadata": {},
     "output_type": "execute_result"
    }
   ],
   "source": [
    "np.mean(maxTemperature)"
   ]
  },
  {
   "cell_type": "code",
   "execution_count": 9,
   "metadata": {
    "collapsed": false,
    "deletable": true,
    "editable": true
   },
   "outputs": [
    {
     "data": {
      "text/plain": [
       "BARBALHA     1054.895\n",
       "CAMPINA       790.105\n",
       "RECIFE       2227.805\n",
       "FORTALEZA    1483.455\n",
       "TRIUNFO      1089.670\n",
       "dtype: float64"
      ]
     },
     "execution_count": 9,
     "metadata": {},
     "output_type": "execute_result"
    }
   ],
   "source": [
    "np.mean(totalPrecip)"
   ]
  },
  {
   "cell_type": "markdown",
   "metadata": {
    "deletable": true,
    "editable": true
   },
   "source": [
    "Clearly the mean results reflects the expected method's outcomes. Each location has exactly the same mean values as its centroids obtained from method because the centroids ARE the means values of each locality. Suposing our data were not labeled, this tecnique would be correct estimating correctly each location mean. By seeing the results from means we can say that yellow points are Recife observation as well are from Triunfo the green ones. The impressive results from grouping Barbalha shows the power of method."
   ]
  },
  {
   "cell_type": "code",
   "execution_count": null,
   "metadata": {
    "collapsed": true,
    "deletable": true,
    "editable": true
   },
   "outputs": [],
   "source": []
  }
 ],
 "metadata": {
  "kernelspec": {
   "display_name": "Python 2",
   "language": "python",
   "name": "python2"
  },
  "language_info": {
   "codemirror_mode": {
    "name": "ipython",
    "version": 2
   },
   "file_extension": ".py",
   "mimetype": "text/x-python",
   "name": "python",
   "nbconvert_exporter": "python",
   "pygments_lexer": "ipython2",
   "version": "2.7.13"
  }
 },
 "nbformat": 4,
 "nbformat_minor": 2
}
