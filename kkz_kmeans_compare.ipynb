{
 "cells": [
  {
   "cell_type": "markdown",
   "metadata": {
    "deletable": true,
    "editable": true
   },
   "source": [
    "## A brief comparision between KKZ and K-Means methods"
   ]
  },
  {
   "cell_type": "markdown",
   "metadata": {
    "collapsed": true,
    "deletable": true,
    "editable": true
   },
   "source": [
    "A frequent problem in ensembles for meteorology is to select representative elements in ensemble which makes possible to deal with a small subset which holds the same properts of full set of models. \n"
   ]
  },
  {
   "cell_type": "markdown",
   "metadata": {
    "deletable": true,
    "editable": true
   },
   "source": [
    "Lets create a random matrix with 150 x 2 using make_blobs tool from sklearn. "
   ]
  },
  {
   "cell_type": "code",
   "execution_count": 2,
   "metadata": {
    "collapsed": false,
    "deletable": true,
    "editable": true
   },
   "outputs": [],
   "source": [
    "#!/usr/bin/env python2\n",
    "# -*- coding: utf-8 -*-\n",
    "\"\"\"\n",
    "Created on Tue Sep  5 14:45:21 2017\n",
    "\"\"\"\n",
    "\n",
    "import numpy as np\n",
    "\n",
    "import matplotlib.pyplot as plt\n",
    "import scipy, pylab\n",
    "from scipy.spatial.distance import cdist, pdist\n",
    "from sklearn.datasets import make_blobs\n",
    "   \n",
    "dim = 2\n",
    "nx = 150\n",
    "ny = 1\n",
    "metric = \"euclidean\"\n",
    "seed = 1\n",
    "k = 6\n",
    "\n",
    "# converting in an numpy array the result of make_blobs tool\n",
    "data = np.array(make_blobs(n_samples=200,\n",
    "                  n_features=dim,\n",
    "                  centers=4,\n",
    "                  cluster_std=1,\n",
    "                  center_box=(-1.0, 1.0),\n",
    "                  shuffle=True,\n",
    "                  random_state=seed)[0])  # For reproducibility"
   ]
  },
  {
   "cell_type": "code",
   "execution_count": 3,
   "metadata": {
    "collapsed": false,
    "deletable": true,
    "editable": true
   },
   "outputs": [
    {
     "data": {
      "text/plain": [
       "array([[-0.83661828,  0.81821277],\n",
       "       [-0.28918621, -0.03055216],\n",
       "       [-2.03843988, -2.57601137],\n",
       "       [-0.34480386, -1.13497598],\n",
       "       [ 0.14967896, -1.58155223],\n",
       "       [ 0.34697383,  0.14255615],\n",
       "       [-1.28326634,  0.67506468],\n",
       "       [-0.3401562 , -1.85991219],\n",
       "       [-1.11021828, -1.01269692]])"
      ]
     },
     "execution_count": 3,
     "metadata": {},
     "output_type": "execute_result"
    }
   ],
   "source": [
    "data[1:10]"
   ]
  },
  {
   "cell_type": "markdown",
   "metadata": {
    "deletable": true,
    "editable": true
   },
   "source": [
    "## KKZ algorithm"
   ]
  },
  {
   "cell_type": "markdown",
   "metadata": {
    "deletable": true,
    "editable": true
   },
   "source": [
    "The Katsavounidis–Kuo–Zhang (KKZ) algorithm has been traditionally applied as a seeding method for K-means shows interesting behaviour when compared with K-Means. Its application recursively selects members that best span the spread of an ensemble rather than finding clusters that best characterize high-density. It does it in a deterministic way by incrementally adding scenarios to the ones previously selected."
   ]
  },
  {
   "cell_type": "markdown",
   "metadata": {
    "deletable": true,
    "editable": true
   },
   "source": [
    "#### KKZ algorithm\n",
    "\n",
    "1. Select the case that lies closest to the data centroid $c = \\frac{1}{N} \\sum_{i=0}^{N} a_i$ as the first scenario.\n",
    "2. Select the case that lies farthest from the first scenario as the second scenario.\n",
    "3. To select the next scenario,\n",
    "\n",
    "    3.1 calculate distances from each remaining case to the previously selected scenarios;\n",
    "    \n",
    "    3.2 associate each remaining case with the minimum distance calculated in step 3(i);\n",
    "    \n",
    "    3.3 select the case with the maximum distance from step 3.2 as the next scenario.\n",
    "4. Repeat from step 3\n"
   ]
  },
  {
   "cell_type": "code",
   "execution_count": 4,
   "metadata": {
    "collapsed": false,
    "deletable": true,
    "editable": true
   },
   "outputs": [],
   "source": [
    "\n",
    "def kkz(data, k, metric):\n",
    "\n",
    "    # X is our data set\n",
    "    x = data\n",
    "\n",
    "    # Centroids to be filled by kkz method. Dimension of k x 2 \n",
    "    cent = np.empty([k, dim], dtype=float)\n",
    "\n",
    "    # Step 0. Initialize \n",
    "    cent[0] = np.ndarray.mean(x, axis=0, keepdims=True)\n",
    "    idx = cent[0]\n",
    "    x = np.delete(x, idx, axis=0) \n",
    "\n",
    "    # Gets the maximum distance elements for k elements\n",
    "    for i in range(1,k):\n",
    "        dist = cdist(x, cent, metric=metric ) # returns x and y distance by metric\n",
    "        idx = np.sum(dist, 1).argmax()\n",
    "        cent[i] = np.matrix(x[idx], dtype=float)\n",
    "        x = np.delete(x, idx, axis=0) # removes selected element from left points\n",
    "\n",
    "    # Plot all data labeled by kmeans method\n",
    "    plt.scatter(data[:,0], data[:,1], c=\"red\")\n",
    "    plt.title('KKZ centroids', fontsize=16)\n",
    "\n",
    "    # Plot all KKZ \"centroids\" labeled by its iteration order\n",
    "    plt.scatter(cent[:, 0], cent[:, 1], marker='o',\n",
    "                c=\"white\", alpha=1, s=200, edgecolor='k')\n",
    "    for i, c in enumerate(cent):\n",
    "        plt.scatter(c[0], c[1], marker='$%d$' % i, alpha=1, s=50, edgecolor='k')\n",
    "\n",
    "\n",
    "    plt.show()\n",
    "    \n",
    "    return cent"
   ]
  },
  {
   "cell_type": "code",
   "execution_count": 11,
   "metadata": {
    "collapsed": false,
    "deletable": true,
    "editable": true
   },
   "outputs": [
    {
     "data": {
      "image/png": "[encoded data removed]",
      "text/plain": [
       "<matplotlib.figure.Figure at 0x7f423c6b2d90>"
      ]
     },
     "metadata": {},
     "output_type": "display_data"
    }
   ],
   "source": [
    "cent = kkz(data, k, metric)"
   ]
  },
  {
   "cell_type": "code",
   "execution_count": null,
   "metadata": {
    "collapsed": true,
    "deletable": true,
    "editable": true
   },
   "outputs": [],
   "source": []
  },
  {
   "cell_type": "markdown",
   "metadata": {
    "deletable": true,
    "editable": true
   },
   "source": [
    "## K-means algorithm"
   ]
  },
  {
   "cell_type": "markdown",
   "metadata": {
    "deletable": true,
    "editable": true
   },
   "source": [
    "The K-Means methods attempts to maximize the explained variance of an ensemble. It tends to select members that are representative of high-density regions. Methodologicaly, k-means cannot produce an ordered sequence of solutions, where a 6-member clustering recomendation  being  different to the 5-member clustering ones."
   ]
  },
  {
   "cell_type": "markdown",
   "metadata": {
    "deletable": true,
    "editable": true
   },
   "source": [
    "#### Straight K-Means\n",
    "1. Initial setting. Choose the number of clusters, $K$, and tentative centroids $c_1 c_2 \\dots c_K$, frequently referred to as seeds. Initial cluster lists $S_k$ is empty.\n",
    "\n",
    "2. Clusters update. Given $K$ centroids, determine clusters $S_{k0} (k = 1 \\dots K )$ with the Minimum Distance rule.\n",
    "\n",
    "3. Stop-condition. Check whether $S_0 = S$ . If yes, end with clustering $S = S_k , c = ( c_k )$. Otherwise, change $S$ for $S_0$.\n",
    "\n",
    "4. Centroids update. Given clusters $S_k$, calculate within cluster means $c_k ( k = 1 \\dots K)$ and go to Step 2."
   ]
  },
  {
   "cell_type": "code",
   "execution_count": 6,
   "metadata": {
    "collapsed": false,
    "deletable": true,
    "editable": true,
    "scrolled": true
   },
   "outputs": [],
   "source": [
    "import matplotlib.pyplot as plt\n",
    "import matplotlib.cm as cm\n",
    "import numpy as np\n",
    "from sklearn.cluster import KMeans\n",
    "\n",
    "def k_means(data, k):\n",
    "    y = KMeans(n_clusters=k, random_state=seed).fit(data)\n",
    "\n",
    "    # plotting\n",
    "    plt.scatter(data[:, 0], data[:, 1], c='red')\n",
    "    plt.title('K-means centroids', fontsize=16)\n",
    "\n",
    "    # Labeling the clusters\n",
    "    centers = y.cluster_centers_\n",
    "    # Draw white circles at cluster centers\n",
    "    plt.scatter(centers[:, 0], centers[:, 1], marker='o',\n",
    "                c='white', alpha=1, s=200, edgecolor='k')\n",
    "    for i, c in enumerate(centers):\n",
    "        plt.scatter(c[0], c[1], marker='$%d$' % i, alpha=1, s=50, edgecolor='k')\n",
    "\n",
    "    plt.show()\n",
    "\n",
    "    return centers"
   ]
  },
  {
   "cell_type": "code",
   "execution_count": 19,
   "metadata": {
    "collapsed": false,
    "deletable": true,
    "editable": true
   },
   "outputs": [
    {
     "data": {
      "image/png": "[encoded data removed]",
      "text/plain": [
       "<matplotlib.figure.Figure at 0x7f4204ddb090>"
      ]
     },
     "metadata": {},
     "output_type": "display_data"
    }
   ],
   "source": [
    "centers = k_means(data, k)"
   ]
  },
  {
   "cell_type": "markdown",
   "metadata": {
    "deletable": true,
    "editable": true
   },
   "source": [
    "## Conclusions"
   ]
  },
  {
   "cell_type": "markdown",
   "metadata": {
    "deletable": true,
    "editable": true
   },
   "source": [
    "By the results from two plots we can see explicitly the different results from both methods. While K-Means select centroids aligned with more dense regions in the space, KKZ selects points which are more distants and covers the variability from the space. If one aims to represent the variability more then the density of variability in some regions in the space, KKZ it is the best choice. \n",
    "\n",
    "Once our aim is to select a good subset which represents the variability from the initial set we want to compare how two methods catchs this variability while we increase k in each method. Lets plot the convex hull from two methods centroids"
   ]
  },
  {
   "cell_type": "code",
   "execution_count": 44,
   "metadata": {
    "collapsed": false,
    "deletable": true,
    "editable": true,
    "scrolled": true
   },
   "outputs": [
    {
     "data": {
      "image/png": "[encoded data removed]",
      "text/plain": [
       "<matplotlib.figure.Figure at 0x7f4204f4a110>"
      ]
     },
     "metadata": {},
     "output_type": "display_data"
    },
    {
     "data": {
      "text/plain": [
       "192"
      ]
     },
     "execution_count": 44,
     "metadata": {},
     "output_type": "execute_result"
    }
   ],
   "source": [
    "def in_hull(p, hull):\n",
    "    \"\"\"\n",
    "    Test if points in `p` are in `hull`\n",
    "\n",
    "    `p` should be a `NxK` coordinates of `N` points in `K` dimensions\n",
    "    `hull` is either a scipy.spatial.Delaunay object or the `MxK` array of the \n",
    "    coordinates of `M` points in `K`dimensions for which Delaunay triangulation\n",
    "    will be computed\n",
    "    \"\"\"\n",
    "    from scipy.spatial import Delaunay\n",
    "    if not isinstance(hull,Delaunay):\n",
    "        hull = Delaunay(hull)\n",
    "\n",
    "    return hull.find_simplex(p)>=0\n",
    "\n",
    "\n",
    "def plot_in_hull(p, hull):\n",
    "    \"\"\"\n",
    "    plot relative to `in_hull` for 2d data\n",
    "    \"\"\"\n",
    "    import matplotlib.pyplot as plt\n",
    "    from matplotlib.collections import PolyCollection, LineCollection\n",
    "\n",
    "    from scipy.spatial import Delaunay\n",
    "    if not isinstance(hull,Delaunay):\n",
    "        hull = Delaunay(hull)\n",
    "\n",
    "    # plot triangulation\n",
    "    poly = PolyCollection(hull.points[hull.vertices], facecolors='w', edgecolors='b')\n",
    "    plt.clf()\n",
    "    plt.title('in hull')\n",
    "    plt.gca().add_collection(poly)\n",
    "    plt.plot(hull.points[:,0], hull.points[:,1], 'o')\n",
    "\n",
    "\n",
    "    # plot the convex hull\n",
    "    edges = set()\n",
    "    edge_points = []\n",
    "\n",
    "    def add_edge(i, j):\n",
    "        \"\"\"Add a line between the i-th and j-th points, if not in the list already\"\"\"\n",
    "        if (i, j) in edges or (j, i) in edges:\n",
    "            # already added\n",
    "            return\n",
    "        edges.add( (i, j) )\n",
    "        edge_points.append(hull.points[ [i, j] ])\n",
    "\n",
    "    for ia, ib in hull.convex_hull:\n",
    "        add_edge(ia, ib)\n",
    "\n",
    "    lines = LineCollection(edge_points, color='g')\n",
    "    plt.gca().add_collection(lines)\n",
    "    #plt.show()    \n",
    "\n",
    "    # plot tested points `p` - black are inside hull, red outside\n",
    "    inside = in_hull(p,hull)\n",
    "    plt.plot(p[ inside,0],p[ inside,1],'.k')\n",
    "    plt.plot(p[~inside,0],p[~inside,1],'.r')\n",
    "    plt.show()    \n",
    "\n",
    "    \n",
    "    \n",
    "plot_in_hull(data, cent)\n",
    "np.count_nonzero(in_hull(data, cent))"
   ]
  },
  {
   "cell_type": "code",
   "execution_count": 45,
   "metadata": {
    "collapsed": false,
    "scrolled": true
   },
   "outputs": [
    {
     "data": {
      "image/png": "[encoded data removed]",
      "text/plain": [
       "<matplotlib.figure.Figure at 0x7f4204e58110>"
      ]
     },
     "metadata": {},
     "output_type": "display_data"
    },
    {
     "data": {
      "text/plain": [
       "117"
      ]
     },
     "execution_count": 45,
     "metadata": {},
     "output_type": "execute_result"
    }
   ],
   "source": [
    "plot_in_hull(data, centers)\n",
    "np.count_nonzero(in_hull(data, centers))"
   ]
  },
  {
   "cell_type": "markdown",
   "metadata": {},
   "source": [
    "The K-Means method covers 117 points from same 200 points from data set while the KKZ method cover 192 points from 200 available. Same results were obtained in ~\\cite{cannon}."
   ]
  }
 ],
 "metadata": {
  "kernelspec": {
   "display_name": "Python 2",
   "language": "python",
   "name": "python2"
  },
  "language_info": {
   "codemirror_mode": {
    "name": "ipython",
    "version": 2
   },
   "file_extension": ".py",
   "mimetype": "text/x-python",
   "name": "python",
   "nbconvert_exporter": "python",
   "pygments_lexer": "ipython2",
   "version": "2.7.13"
  }
 },
 "nbformat": 4,
 "nbformat_minor": 2
}
